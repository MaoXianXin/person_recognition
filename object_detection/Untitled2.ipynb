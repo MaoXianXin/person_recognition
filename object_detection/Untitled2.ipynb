{
 "cells": [
  {
   "cell_type": "code",
   "execution_count": 1,
   "metadata": {},
   "outputs": [],
   "source": [
    "import functools\n",
    "import json\n",
    "import os\n",
    "import tensorflow as tf\n",
    "\n",
    "from object_detection import trainer\n",
    "from object_detection.builders import dataset_builder\n",
    "from object_detection.builders import graph_rewriter_builder\n",
    "from object_detection.builders import model_builder\n",
    "from object_detection.utils import config_util\n",
    "from object_detection.utils import dataset_util"
   ]
  },
  {
   "cell_type": "code",
   "execution_count": 2,
   "metadata": {},
   "outputs": [],
   "source": [
    "pipeline_config_path = '/home/mao/Desktop/example/jupyter_notebook/rfcn_resnet101_coco.config'"
   ]
  },
  {
   "cell_type": "code",
   "execution_count": 3,
   "metadata": {},
   "outputs": [],
   "source": [
    "configs = config_util.get_configs_from_pipeline_file(\n",
    "    pipeline_config_path)"
   ]
  },
  {
   "cell_type": "code",
   "execution_count": 4,
   "metadata": {},
   "outputs": [
    {
     "data": {
      "text/plain": [
       "{'eval_config': num_examples: 8000\n",
       " max_evals: 10,\n",
       " 'eval_input_config': label_map_path: \"PATH_TO_BE_CONFIGURED/mscoco_label_map.pbtxt\"\n",
       " shuffle: false\n",
       " num_readers: 1\n",
       " tf_record_input_reader {\n",
       "   input_path: \"PATH_TO_BE_CONFIGURED/mscoco_val.record\"\n",
       " },\n",
       " 'model': faster_rcnn {\n",
       "   num_classes: 90\n",
       "   image_resizer {\n",
       "     keep_aspect_ratio_resizer {\n",
       "       min_dimension: 600\n",
       "       max_dimension: 1024\n",
       "     }\n",
       "   }\n",
       "   feature_extractor {\n",
       "     type: \"faster_rcnn_resnet101\"\n",
       "     first_stage_features_stride: 16\n",
       "   }\n",
       "   first_stage_anchor_generator {\n",
       "     grid_anchor_generator {\n",
       "       height_stride: 16\n",
       "       width_stride: 16\n",
       "       scales: 0.25\n",
       "       scales: 0.5\n",
       "       scales: 1.0\n",
       "       scales: 2.0\n",
       "       aspect_ratios: 0.5\n",
       "       aspect_ratios: 1.0\n",
       "       aspect_ratios: 2.0\n",
       "     }\n",
       "   }\n",
       "   first_stage_box_predictor_conv_hyperparams {\n",
       "     op: CONV\n",
       "     regularizer {\n",
       "       l2_regularizer {\n",
       "         weight: 0.0\n",
       "       }\n",
       "     }\n",
       "     initializer {\n",
       "       truncated_normal_initializer {\n",
       "         stddev: 0.009999999776482582\n",
       "       }\n",
       "     }\n",
       "   }\n",
       "   first_stage_nms_score_threshold: 0.0\n",
       "   first_stage_nms_iou_threshold: 0.699999988079071\n",
       "   first_stage_max_proposals: 300\n",
       "   first_stage_localization_loss_weight: 2.0\n",
       "   first_stage_objectness_loss_weight: 1.0\n",
       "   second_stage_box_predictor {\n",
       "     rfcn_box_predictor {\n",
       "       conv_hyperparams {\n",
       "         op: CONV\n",
       "         regularizer {\n",
       "           l2_regularizer {\n",
       "             weight: 0.0\n",
       "           }\n",
       "         }\n",
       "         initializer {\n",
       "           truncated_normal_initializer {\n",
       "             stddev: 0.009999999776482582\n",
       "           }\n",
       "         }\n",
       "       }\n",
       "       num_spatial_bins_height: 3\n",
       "       num_spatial_bins_width: 3\n",
       "       crop_height: 18\n",
       "       crop_width: 18\n",
       "     }\n",
       "   }\n",
       "   second_stage_post_processing {\n",
       "     batch_non_max_suppression {\n",
       "       score_threshold: 0.0\n",
       "       iou_threshold: 0.6000000238418579\n",
       "       max_detections_per_class: 100\n",
       "       max_total_detections: 300\n",
       "     }\n",
       "     score_converter: SOFTMAX\n",
       "   }\n",
       "   second_stage_localization_loss_weight: 2.0\n",
       "   second_stage_classification_loss_weight: 1.0\n",
       " },\n",
       " 'train_config': batch_size: 1\n",
       " data_augmentation_options {\n",
       "   random_horizontal_flip {\n",
       "   }\n",
       " }\n",
       " optimizer {\n",
       "   momentum_optimizer {\n",
       "     learning_rate {\n",
       "       manual_step_learning_rate {\n",
       "         initial_learning_rate: 0.0003000000142492354\n",
       "         schedule {\n",
       "           step: 900000\n",
       "           learning_rate: 2.9999999242136255e-05\n",
       "         }\n",
       "         schedule {\n",
       "           step: 1200000\n",
       "           learning_rate: 3.000000106112566e-06\n",
       "         }\n",
       "       }\n",
       "     }\n",
       "     momentum_optimizer_value: 0.8999999761581421\n",
       "   }\n",
       "   use_moving_average: false\n",
       " }\n",
       " gradient_clipping_by_norm: 10.0\n",
       " fine_tune_checkpoint: \"PATH_TO_BE_CONFIGURED/model.ckpt\"\n",
       " from_detection_checkpoint: true\n",
       " num_steps: 200000,\n",
       " 'train_input_config': label_map_path: \"PATH_TO_BE_CONFIGURED/mscoco_label_map.pbtxt\"\n",
       " tf_record_input_reader {\n",
       "   input_path: \"PATH_TO_BE_CONFIGURED/mscoco_train.record\"\n",
       " }}"
      ]
     },
     "execution_count": 4,
     "metadata": {},
     "output_type": "execute_result"
    }
   ],
   "source": [
    "configs"
   ]
  },
  {
   "cell_type": "code",
   "execution_count": 5,
   "metadata": {},
   "outputs": [
    {
     "data": {
      "text/plain": [
       "num_examples: 8000\n",
       "max_evals: 10"
      ]
     },
     "execution_count": 5,
     "metadata": {},
     "output_type": "execute_result"
    }
   ],
   "source": [
    "configs['eval_config']"
   ]
  },
  {
   "cell_type": "code",
   "execution_count": 6,
   "metadata": {},
   "outputs": [
    {
     "data": {
      "text/plain": [
       "label_map_path: \"PATH_TO_BE_CONFIGURED/mscoco_label_map.pbtxt\"\n",
       "shuffle: false\n",
       "num_readers: 1\n",
       "tf_record_input_reader {\n",
       "  input_path: \"PATH_TO_BE_CONFIGURED/mscoco_val.record\"\n",
       "}"
      ]
     },
     "execution_count": 6,
     "metadata": {},
     "output_type": "execute_result"
    }
   ],
   "source": [
    "configs['eval_input_config']"
   ]
  },
  {
   "cell_type": "code",
   "execution_count": 7,
   "metadata": {
    "scrolled": true
   },
   "outputs": [
    {
     "data": {
      "text/plain": [
       "faster_rcnn {\n",
       "  num_classes: 90\n",
       "  image_resizer {\n",
       "    keep_aspect_ratio_resizer {\n",
       "      min_dimension: 600\n",
       "      max_dimension: 1024\n",
       "    }\n",
       "  }\n",
       "  feature_extractor {\n",
       "    type: \"faster_rcnn_resnet101\"\n",
       "    first_stage_features_stride: 16\n",
       "  }\n",
       "  first_stage_anchor_generator {\n",
       "    grid_anchor_generator {\n",
       "      height_stride: 16\n",
       "      width_stride: 16\n",
       "      scales: 0.25\n",
       "      scales: 0.5\n",
       "      scales: 1.0\n",
       "      scales: 2.0\n",
       "      aspect_ratios: 0.5\n",
       "      aspect_ratios: 1.0\n",
       "      aspect_ratios: 2.0\n",
       "    }\n",
       "  }\n",
       "  first_stage_box_predictor_conv_hyperparams {\n",
       "    op: CONV\n",
       "    regularizer {\n",
       "      l2_regularizer {\n",
       "        weight: 0.0\n",
       "      }\n",
       "    }\n",
       "    initializer {\n",
       "      truncated_normal_initializer {\n",
       "        stddev: 0.009999999776482582\n",
       "      }\n",
       "    }\n",
       "  }\n",
       "  first_stage_nms_score_threshold: 0.0\n",
       "  first_stage_nms_iou_threshold: 0.699999988079071\n",
       "  first_stage_max_proposals: 300\n",
       "  first_stage_localization_loss_weight: 2.0\n",
       "  first_stage_objectness_loss_weight: 1.0\n",
       "  second_stage_box_predictor {\n",
       "    rfcn_box_predictor {\n",
       "      conv_hyperparams {\n",
       "        op: CONV\n",
       "        regularizer {\n",
       "          l2_regularizer {\n",
       "            weight: 0.0\n",
       "          }\n",
       "        }\n",
       "        initializer {\n",
       "          truncated_normal_initializer {\n",
       "            stddev: 0.009999999776482582\n",
       "          }\n",
       "        }\n",
       "      }\n",
       "      num_spatial_bins_height: 3\n",
       "      num_spatial_bins_width: 3\n",
       "      crop_height: 18\n",
       "      crop_width: 18\n",
       "    }\n",
       "  }\n",
       "  second_stage_post_processing {\n",
       "    batch_non_max_suppression {\n",
       "      score_threshold: 0.0\n",
       "      iou_threshold: 0.6000000238418579\n",
       "      max_detections_per_class: 100\n",
       "      max_total_detections: 300\n",
       "    }\n",
       "    score_converter: SOFTMAX\n",
       "  }\n",
       "  second_stage_localization_loss_weight: 2.0\n",
       "  second_stage_classification_loss_weight: 1.0\n",
       "}"
      ]
     },
     "execution_count": 7,
     "metadata": {},
     "output_type": "execute_result"
    }
   ],
   "source": [
    "configs['model']"
   ]
  },
  {
   "cell_type": "code",
   "execution_count": 8,
   "metadata": {},
   "outputs": [
    {
     "data": {
      "text/plain": [
       "dict_keys(['eval_config', 'train_input_config', 'train_config', 'model', 'eval_input_config'])"
      ]
     },
     "execution_count": 8,
     "metadata": {},
     "output_type": "execute_result"
    }
   ],
   "source": [
    "configs.keys()"
   ]
  },
  {
   "cell_type": "code",
   "execution_count": null,
   "metadata": {},
   "outputs": [],
   "source": []
  }
 ],
 "metadata": {
  "kernelspec": {
   "display_name": "Python 3",
   "language": "python",
   "name": "python3"
  },
  "language_info": {
   "codemirror_mode": {
    "name": "ipython",
    "version": 3
   },
   "file_extension": ".py",
   "mimetype": "text/x-python",
   "name": "python",
   "nbconvert_exporter": "python",
   "pygments_lexer": "ipython3",
   "version": "3.5.2"
  }
 },
 "nbformat": 4,
 "nbformat_minor": 2
}
