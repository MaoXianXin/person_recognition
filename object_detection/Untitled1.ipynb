{
 "cells": [
  {
   "cell_type": "code",
   "execution_count": 1,
   "metadata": {},
   "outputs": [],
   "source": [
    "# import package\n",
    "import numpy as np\n",
    "import os\n",
    "import six.moves.urllib as urllib\n",
    "import sys\n",
    "import tarfile\n",
    "import tensorflow as tf\n",
    "import zipfile\n",
    "\n",
    "from collections import defaultdict\n",
    "from io import StringIO\n",
    "from matplotlib import pyplot as plt\n",
    "from PIL import Image\n",
    "import matplotlib.image as mpimg"
   ]
  },
  {
   "cell_type": "code",
   "execution_count": 2,
   "metadata": {},
   "outputs": [],
   "source": [
    "# add to library search path\n",
    "sys.path.append(\"/home/mao/Documents/Github/models/research\")\n",
    "sys.path.append('/home/mao/Documents/Github/models/research/object_detection')\n",
    "\n",
    "from object_detection.utils import ops as utils_ops\n",
    "\n",
    "from utils import label_map_util\n",
    "from utils import visualization_utils as vis_util"
   ]
  },
  {
   "cell_type": "code",
   "execution_count": 3,
   "metadata": {},
   "outputs": [],
   "source": [
    "# Path to frozen detection graph. This is the actual model that is used for the object detection.\n",
    "PATH_TO_CKPT = '/home/mao/Documents/pre_models/ssd_mobilenet_v1_coco_2017_11_17/frozen_inference_graph.pb'\n",
    "\n",
    "# List of the strings that is used to add correct label for each box.\n",
    "PATH_TO_LABELS = '/home/mao/Documents/Github/models/research/object_detection/data/mscoco_label_map.pbtxt'\n",
    "\n",
    "# number of classes\n",
    "NUM_CLASSES = 90"
   ]
  },
  {
   "cell_type": "code",
   "execution_count": 4,
   "metadata": {},
   "outputs": [],
   "source": [
    "# import .pb graph \n",
    "detection_graph = tf.Graph()\n",
    "with detection_graph.as_default():\n",
    "  od_graph_def = tf.GraphDef()\n",
    "  with tf.gfile.GFile(PATH_TO_CKPT, 'rb') as fid:\n",
    "    serialized_graph = fid.read()\n",
    "    od_graph_def.ParseFromString(serialized_graph)\n",
    "    tf.import_graph_def(od_graph_def, name='')"
   ]
  },
  {
   "cell_type": "code",
   "execution_count": 5,
   "metadata": {},
   "outputs": [],
   "source": [
    "# map classID to className\n",
    "label_map = label_map_util.load_labelmap(PATH_TO_LABELS)\n",
    "categories = label_map_util.convert_label_map_to_categories(label_map, max_num_classes=NUM_CLASSES, use_display_name=True)\n",
    "category_index = label_map_util.create_category_index(categories)"
   ]
  },
  {
   "cell_type": "code",
   "execution_count": 7,
   "metadata": {},
   "outputs": [],
   "source": [
    "# For the sake of simplicity we will use only 2 images:\n",
    "# image1.jpg\n",
    "# image2.jpg\n",
    "# If you want to test the code with your images, just add path to the images to the TEST_IMAGE_PATHS.\n",
    "PATH_TO_TEST_IMAGES_DIR = '/home/mao/Documents/Github/models/research/object_detection/test_images'\n",
    "TEST_IMAGE_PATHS = [ os.path.join(PATH_TO_TEST_IMAGES_DIR, 'image{}.jpg'.format(i)) for i in range(1, 3) ]\n",
    "# Size, in inches, of the output images.\n",
    "IMAGE_SIZE = (20, 20)"
   ]
  },
  {
   "cell_type": "code",
   "execution_count": 8,
   "metadata": {},
   "outputs": [],
   "source": [
    "# run inference\n",
    "def run_inference_for_single_image(image, graph):\n",
    "  with graph.as_default():\n",
    "    with tf.Session() as sess:\n",
    "      # Get handles to input and output tensors\n",
    "      ops = tf.get_default_graph().get_operations()\n",
    "      all_tensor_names = {output.name for op in ops for output in op.outputs}\n",
    "      tensor_dict = {}\n",
    "      for key in [\n",
    "          'num_detections', 'detection_boxes', 'detection_scores',\n",
    "          'detection_classes', 'detection_masks'\n",
    "      ]:\n",
    "        tensor_name = key + ':0'\n",
    "        if tensor_name in all_tensor_names:\n",
    "          tensor_dict[key] = tf.get_default_graph().get_tensor_by_name(\n",
    "              tensor_name)\n",
    "      if 'detection_masks' in tensor_dict:\n",
    "        # The following processing is only for single image\n",
    "        detection_boxes = tf.squeeze(tensor_dict['detection_boxes'], [0])\n",
    "        detection_masks = tf.squeeze(tensor_dict['detection_masks'], [0])\n",
    "        # Reframe is required to translate mask from box coordinates to image coordinates and fit the image size.\n",
    "        real_num_detection = tf.cast(tensor_dict['num_detections'][0], tf.int32)\n",
    "        detection_boxes = tf.slice(detection_boxes, [0, 0], [real_num_detection, -1])\n",
    "        detection_masks = tf.slice(detection_masks, [0, 0, 0], [real_num_detection, -1, -1])\n",
    "        detection_masks_reframed = utils_ops.reframe_box_masks_to_image_masks(\n",
    "            detection_masks, detection_boxes, image.shape[0], image.shape[1])\n",
    "        detection_masks_reframed = tf.cast(\n",
    "            tf.greater(detection_masks_reframed, 0.5), tf.uint8)\n",
    "        # Follow the convention by adding back the batch dimension\n",
    "        tensor_dict['detection_masks'] = tf.expand_dims(\n",
    "            detection_masks_reframed, 0)\n",
    "      image_tensor = tf.get_default_graph().get_tensor_by_name('image_tensor:0')\n",
    "\n",
    "      # Run inference\n",
    "      output_dict = sess.run(tensor_dict,\n",
    "                             feed_dict={image_tensor: np.expand_dims(image, 0)})\n",
    "\n",
    "      # all outputs are float32 numpy arrays, so convert types as appropriate\n",
    "      output_dict['num_detections'] = int(output_dict['num_detections'][0])\n",
    "      output_dict['detection_classes'] = output_dict[\n",
    "          'detection_classes'][0].astype(np.uint8)\n",
    "      output_dict['detection_boxes'] = output_dict['detection_boxes'][0]\n",
    "      output_dict['detection_scores'] = output_dict['detection_scores'][0]\n",
    "      if 'detection_masks' in output_dict:\n",
    "        output_dict['detection_masks'] = output_dict['detection_masks'][0]\n",
    "  return output_dict"
   ]
  },
  {
   "cell_type": "code",
   "execution_count": 9,
   "metadata": {},
   "outputs": [
    {
     "data": {
      "text/plain": [
       "['/home/mao/Documents/Github/models/research/object_detection/test_images/image1.jpg',\n",
       " '/home/mao/Documents/Github/models/research/object_detection/test_images/image2.jpg']"
      ]
     },
     "execution_count": 9,
     "metadata": {},
     "output_type": "execute_result"
    }
   ],
   "source": [
    "TEST_IMAGE_PATHS"
   ]
  },
  {
   "cell_type": "code",
   "execution_count": 10,
   "metadata": {},
   "outputs": [],
   "source": [
    "test_path = TEST_IMAGE_PATHS[0]"
   ]
  },
  {
   "cell_type": "code",
   "execution_count": 11,
   "metadata": {},
   "outputs": [],
   "source": [
    "image = mpimg.imread(test_path)"
   ]
  },
  {
   "cell_type": "code",
   "execution_count": 12,
   "metadata": {},
   "outputs": [
    {
     "data": {
      "text/plain": [
       "(636, 1024, 3)"
      ]
     },
     "execution_count": 12,
     "metadata": {},
     "output_type": "execute_result"
    }
   ],
   "source": [
    "image.shape"
   ]
  },
  {
   "cell_type": "code",
   "execution_count": 14,
   "metadata": {},
   "outputs": [],
   "source": [
    "output_dict = run_inference_for_single_image(image, detection_graph)"
   ]
  },
  {
   "cell_type": "code",
   "execution_count": 15,
   "metadata": {},
   "outputs": [
    {
     "data": {
      "text/plain": [
       "{'detection_boxes': array([[3.90841365e-02, 1.92150474e-02, 8.72103572e-01, 3.15773487e-01],\n",
       "        [1.09515011e-01, 4.02835608e-01, 9.24646080e-01, 9.73047853e-01],\n",
       "        [5.07123828e-01, 3.85651469e-01, 8.76479506e-01, 7.03940868e-01],\n",
       "        [6.38731122e-02, 2.81166583e-01, 9.16385174e-01, 8.24097157e-01],\n",
       "        [2.15276748e-01, 3.96740973e-01, 9.12904143e-01, 6.79073751e-01],\n",
       "        [5.27002156e-01, 3.72713208e-01, 8.83502662e-01, 6.94296718e-01],\n",
       "        [0.00000000e+00, 5.25425494e-01, 2.53364950e-01, 7.16124356e-01],\n",
       "        [7.37802982e-02, 2.98963934e-01, 9.20516491e-01, 9.38026905e-01],\n",
       "        [5.31044006e-01, 3.84130090e-01, 9.15436625e-01, 8.53949070e-01],\n",
       "        [1.45327359e-01, 3.87902379e-01, 9.06316161e-01, 9.78849053e-01],\n",
       "        [2.08420545e-01, 2.78770030e-01, 8.26954961e-01, 6.09079719e-01],\n",
       "        [3.48854452e-01, 3.05225879e-01, 8.99384499e-01, 7.33766913e-01],\n",
       "        [7.35044479e-03, 5.13691902e-02, 6.02022469e-01, 8.20266247e-01],\n",
       "        [7.01457560e-02, 4.42671806e-01, 6.44431710e-01, 9.48012829e-01],\n",
       "        [4.43222523e-01, 7.04982758e-01, 8.88262153e-01, 9.72495198e-01],\n",
       "        [0.00000000e+00, 1.58310384e-02, 5.33040762e-01, 3.26140404e-01],\n",
       "        [2.73159891e-02, 7.80898511e-01, 4.52330530e-01, 9.99021828e-01],\n",
       "        [4.97773349e-01, 5.46987832e-01, 9.03400123e-01, 9.69787896e-01],\n",
       "        [2.69133329e-01, 1.26657188e-02, 7.15254009e-01, 7.09666491e-01],\n",
       "        [1.63998902e-02, 7.75270224e-01, 3.03250313e-01, 9.68817115e-01],\n",
       "        [5.67308068e-03, 4.55646217e-01, 1.93870753e-01, 6.97734416e-01],\n",
       "        [4.82450128e-02, 7.73341954e-01, 8.04946899e-01, 9.95546877e-01],\n",
       "        [1.24504939e-01, 4.16355580e-01, 4.35260653e-01, 5.97670197e-01],\n",
       "        [4.74331647e-01, 2.96225101e-01, 8.47149491e-01, 7.23577499e-01],\n",
       "        [3.99497300e-02, 4.20010746e-01, 4.45659518e-01, 6.61857307e-01],\n",
       "        [3.78488600e-02, 7.59689987e-01, 8.14783573e-01, 9.96607125e-01],\n",
       "        [5.38973510e-03, 0.00000000e+00, 4.54018295e-01, 6.78039432e-01],\n",
       "        [1.62480064e-02, 6.84099197e-01, 9.84994024e-02, 7.69925594e-01],\n",
       "        [1.27193928e-02, 9.07160282e-01, 3.23243111e-01, 1.00000000e+00],\n",
       "        [9.28553939e-03, 2.33831868e-01, 7.67998576e-01, 6.91343546e-01],\n",
       "        [0.00000000e+00, 6.29334569e-01, 2.18825564e-01, 7.93214560e-01],\n",
       "        [3.25673103e-01, 0.00000000e+00, 6.86674476e-01, 5.30153036e-01],\n",
       "        [7.37802982e-02, 2.98963934e-01, 9.20516491e-01, 9.38026905e-01],\n",
       "        [2.89805979e-03, 3.63411725e-01, 2.48427957e-01, 7.17485487e-01],\n",
       "        [1.92066431e-02, 4.03264165e-03, 4.90423620e-01, 1.83026001e-01],\n",
       "        [1.51750892e-02, 4.82154429e-01, 2.62760818e-01, 8.45144808e-01],\n",
       "        [0.00000000e+00, 5.08485198e-01, 4.94468272e-01, 1.00000000e+00],\n",
       "        [9.38481838e-03, 1.36043057e-01, 2.45933533e-01, 3.11487198e-01],\n",
       "        [3.75822186e-04, 5.86605072e-01, 1.32519647e-01, 8.15935254e-01],\n",
       "        [7.50410184e-03, 6.96488619e-01, 1.07155502e-01, 7.96166301e-01],\n",
       "        [3.75160575e-03, 3.52153182e-03, 3.31493497e-01, 2.49441713e-01],\n",
       "        [3.27165425e-03, 8.18331659e-01, 1.48623466e-01, 1.00000000e+00],\n",
       "        [4.09875810e-02, 3.54062527e-01, 9.34414148e-01, 9.76644874e-01],\n",
       "        [4.11164582e-01, 3.19394171e-01, 8.91128123e-01, 9.59720075e-01],\n",
       "        [5.38897514e-03, 5.77661544e-02, 1.66711986e-01, 2.94809282e-01],\n",
       "        [3.17651033e-03, 8.03798437e-04, 3.97237778e-01, 3.27853352e-01],\n",
       "        [1.76629424e-03, 2.47963339e-01, 1.58182323e-01, 8.25152040e-01],\n",
       "        [2.51045227e-02, 3.27083766e-01, 4.43209589e-01, 5.69893420e-01],\n",
       "        [1.73326224e-01, 8.99033308e-01, 2.95202404e-01, 9.37816858e-01],\n",
       "        [1.53631717e-03, 5.34839272e-01, 9.65732858e-02, 7.91388988e-01],\n",
       "        [0.00000000e+00, 6.89677775e-01, 1.90716863e-01, 8.20209324e-01],\n",
       "        [2.61334479e-02, 0.00000000e+00, 9.11455631e-01, 5.00334144e-01],\n",
       "        [5.42549789e-03, 2.78527439e-01, 3.42841446e-01, 6.26555383e-01],\n",
       "        [9.08588618e-03, 7.14608252e-01, 2.50378251e-01, 8.11496198e-01],\n",
       "        [0.00000000e+00, 1.62969559e-01, 6.41623020e-01, 6.84057951e-01],\n",
       "        [5.27927458e-01, 6.05661511e-01, 8.33969891e-01, 9.93060946e-01],\n",
       "        [6.34730875e-01, 6.00680053e-01, 7.78217256e-01, 7.02180803e-01],\n",
       "        [2.26544470e-01, 0.00000000e+00, 4.79033381e-01, 4.08001423e-01],\n",
       "        [2.00847983e-01, 4.99781966e-02, 9.25272703e-01, 6.73171878e-01],\n",
       "        [9.90194082e-03, 8.34274292e-01, 6.84390128e-01, 9.92215395e-01],\n",
       "        [3.27567279e-01, 1.47520006e-02, 8.40194881e-01, 2.87521034e-01],\n",
       "        [5.24535775e-03, 1.79806262e-01, 2.73772568e-01, 6.97616816e-01],\n",
       "        [2.96270847e-03, 8.16218019e-01, 2.68434793e-01, 9.99035954e-01],\n",
       "        [1.65040046e-03, 5.22725284e-03, 1.09039463e-01, 2.78556406e-01],\n",
       "        [0.00000000e+00, 4.59772646e-01, 3.22444677e-01, 6.62149847e-01],\n",
       "        [0.00000000e+00, 0.00000000e+00, 8.48897576e-01, 5.64121008e-01],\n",
       "        [0.00000000e+00, 5.09432778e-02, 1.59377441e-01, 1.98570102e-01],\n",
       "        [1.63051486e-02, 5.38089573e-01, 3.90734136e-01, 7.39803255e-01],\n",
       "        [8.31886530e-02, 2.78603703e-01, 8.07220101e-01, 4.73532885e-01],\n",
       "        [1.15733445e-01, 7.75008321e-01, 3.15013230e-01, 9.91393924e-01],\n",
       "        [0.00000000e+00, 6.66517913e-01, 9.90401059e-02, 8.71449769e-01],\n",
       "        [5.26072145e-01, 3.84860635e-01, 8.91979694e-01, 6.92041039e-01],\n",
       "        [7.23496079e-04, 3.23415369e-01, 1.82784587e-01, 4.73162502e-01],\n",
       "        [2.27281898e-02, 5.61411917e-01, 2.22378448e-01, 8.28832567e-01],\n",
       "        [5.01510873e-03, 3.82081598e-01, 3.68314795e-02, 5.23766756e-01],\n",
       "        [3.32503319e-02, 6.82321012e-01, 6.45883560e-01, 1.00000000e+00],\n",
       "        [1.98645562e-01, 8.67423117e-01, 2.69918531e-01, 8.96672428e-01],\n",
       "        [1.65595114e-03, 9.90121737e-02, 8.86335075e-02, 3.35102558e-01],\n",
       "        [2.08420545e-01, 2.78770030e-01, 8.26954961e-01, 6.09079719e-01],\n",
       "        [5.10016084e-03, 8.12592983e-01, 5.67706585e-01, 9.96283531e-01],\n",
       "        [0.00000000e+00, 6.48198903e-01, 1.39300913e-01, 7.85187304e-01],\n",
       "        [0.00000000e+00, 5.64677775e-01, 1.78677097e-01, 7.26703465e-01],\n",
       "        [0.00000000e+00, 1.53850317e-01, 1.59367815e-01, 3.07751864e-01],\n",
       "        [1.24242544e-01, 9.12248254e-01, 2.66575992e-01, 9.49702621e-01],\n",
       "        [1.68216839e-01, 3.91938031e-01, 3.80087554e-01, 6.25442326e-01],\n",
       "        [1.79708898e-01, 7.65415490e-01, 3.54245126e-01, 9.76909578e-01],\n",
       "        [3.86631519e-01, 4.79936242e-01, 9.05462265e-01, 7.28251696e-01],\n",
       "        [1.69063926e-01, 8.49331856e-01, 8.73912454e-01, 9.96797204e-01],\n",
       "        [0.00000000e+00, 6.67475522e-01, 3.46965998e-01, 8.27680171e-01],\n",
       "        [5.15673101e-01, 3.48322004e-01, 8.85991156e-01, 7.15603709e-01],\n",
       "        [1.35526583e-01, 8.23295295e-01, 5.11733294e-01, 9.81334746e-01],\n",
       "        [0.00000000e+00, 6.04020238e-01, 2.83460766e-01, 8.98179770e-01],\n",
       "        [3.37654054e-02, 3.34748626e-01, 8.11448216e-01, 5.44323802e-01],\n",
       "        [3.81427974e-01, 8.11111093e-01, 8.99623156e-01, 9.95848060e-01],\n",
       "        [4.64271754e-03, 3.56776029e-01, 1.64631397e-01, 5.96034825e-01],\n",
       "        [1.68883860e-01, 1.45944208e-01, 7.80670643e-01, 9.74074721e-01],\n",
       "        [1.30936131e-02, 4.02707338e-01, 1.45920157e-01, 4.90109086e-01],\n",
       "        [1.31850541e-02, 1.26462430e-02, 6.50432944e-01, 3.06356490e-01],\n",
       "        [5.29274717e-03, 6.38884962e-01, 1.18530378e-01, 6.96881950e-01],\n",
       "        [0.00000000e+00, 3.58073622e-01, 1.63849950e-01, 5.19781947e-01]],\n",
       "       dtype=float32),\n",
       " 'detection_classes': array([18, 18, 18, 18, 18, 33,  1, 63, 18, 21,  3, 18,  1, 18, 21, 18, 62,\n",
       "        18, 18, 62,  1, 62, 18,  3,  1, 21,  1,  1,  1,  1,  1, 18,  1,  1,\n",
       "         1,  1, 62,  1,  1,  1,  1,  1, 62, 18,  1, 63,  1,  1, 84,  1,  1,\n",
       "        18,  1,  1, 62, 21, 57, 18, 18, 62, 18,  1,  1,  1,  1,  1,  1,  1,\n",
       "        18, 62,  1, 88, 47,  1, 47, 62, 84,  1, 18,  1,  1,  1,  1, 84, 18,\n",
       "        62, 18, 21,  1, 62, 62,  1, 18, 21,  1, 18, 47,  1,  1, 47],\n",
       "       dtype=uint8),\n",
       " 'detection_scores': array([0.940691  , 0.9345028 , 0.23088078, 0.22518921, 0.17249939,\n",
       "        0.13962041, 0.13212018, 0.0997574 , 0.08992735, 0.08888885,\n",
       "        0.0809183 , 0.07895196, 0.07818312, 0.07565781, 0.07331279,\n",
       "        0.07074906, 0.06597455, 0.0640453 , 0.06387984, 0.06381167,\n",
       "        0.06380174, 0.06050131, 0.05898518, 0.05898361, 0.05761391,\n",
       "        0.05641384, 0.05638783, 0.05500019, 0.05495735, 0.0542639 ,\n",
       "        0.05425419, 0.0540957 , 0.05335919, 0.05279226, 0.05228501,\n",
       "        0.05219467, 0.05164067, 0.05066015, 0.05030202, 0.04837739,\n",
       "        0.04822724, 0.0472066 , 0.04673688, 0.04671786, 0.04644237,\n",
       "        0.04614897, 0.04420188, 0.04286509, 0.04251253, 0.04174341,\n",
       "        0.04166571, 0.04137339, 0.04096094, 0.0405353 , 0.03990957,\n",
       "        0.03988707, 0.0398438 , 0.03930983, 0.03923886, 0.03877974,\n",
       "        0.03877512, 0.03852981, 0.03816218, 0.03815899, 0.03742454,\n",
       "        0.0368987 , 0.03677591, 0.03671159, 0.03654773, 0.03635325,\n",
       "        0.03612373, 0.03610818, 0.0360195 , 0.03586452, 0.03582653,\n",
       "        0.03572746, 0.03565422, 0.03555559, 0.03504351, 0.03495525,\n",
       "        0.03489257, 0.0345992 , 0.03383926, 0.03381944, 0.03363902,\n",
       "        0.03349815, 0.03300388, 0.03294918, 0.03281054, 0.03275428,\n",
       "        0.0325323 , 0.03200772, 0.03199524, 0.03172891, 0.03149141,\n",
       "        0.03133166, 0.03106268, 0.03057356, 0.03044928, 0.0304172 ],\n",
       "       dtype=float32),\n",
       " 'num_detections': 100}"
      ]
     },
     "execution_count": 15,
     "metadata": {},
     "output_type": "execute_result"
    }
   ],
   "source": [
    "output_dict"
   ]
  },
  {
   "cell_type": "code",
   "execution_count": 17,
   "metadata": {},
   "outputs": [],
   "source": [
    "rclasses = output_dict['detection_classes']\n",
    "rscores = output_dict['detection_scores']\n",
    "rbboxes = output_dict['detection_boxes']"
   ]
  },
  {
   "cell_type": "code",
   "execution_count": 18,
   "metadata": {},
   "outputs": [
    {
     "data": {
      "text/plain": [
       "array([18, 18, 18, 18, 18, 33,  1, 63, 18, 21,  3, 18,  1, 18, 21, 18, 62,\n",
       "       18, 18, 62,  1, 62, 18,  3,  1, 21,  1,  1,  1,  1,  1, 18,  1,  1,\n",
       "        1,  1, 62,  1,  1,  1,  1,  1, 62, 18,  1, 63,  1,  1, 84,  1,  1,\n",
       "       18,  1,  1, 62, 21, 57, 18, 18, 62, 18,  1,  1,  1,  1,  1,  1,  1,\n",
       "       18, 62,  1, 88, 47,  1, 47, 62, 84,  1, 18,  1,  1,  1,  1, 84, 18,\n",
       "       62, 18, 21,  1, 62, 62,  1, 18, 21,  1, 18, 47,  1,  1, 47],\n",
       "      dtype=uint8)"
      ]
     },
     "execution_count": 18,
     "metadata": {},
     "output_type": "execute_result"
    }
   ],
   "source": [
    "rclasses"
   ]
  },
  {
   "cell_type": "code",
   "execution_count": 19,
   "metadata": {},
   "outputs": [
    {
     "data": {
      "text/plain": [
       "(100,)"
      ]
     },
     "execution_count": 19,
     "metadata": {},
     "output_type": "execute_result"
    }
   ],
   "source": [
    "rclasses.shape"
   ]
  },
  {
   "cell_type": "code",
   "execution_count": 20,
   "metadata": {
    "scrolled": true
   },
   "outputs": [
    {
     "data": {
      "text/plain": [
       "array([0.940691  , 0.9345028 , 0.23088078, 0.22518921, 0.17249939,\n",
       "       0.13962041, 0.13212018, 0.0997574 , 0.08992735, 0.08888885,\n",
       "       0.0809183 , 0.07895196, 0.07818312, 0.07565781, 0.07331279,\n",
       "       0.07074906, 0.06597455, 0.0640453 , 0.06387984, 0.06381167,\n",
       "       0.06380174, 0.06050131, 0.05898518, 0.05898361, 0.05761391,\n",
       "       0.05641384, 0.05638783, 0.05500019, 0.05495735, 0.0542639 ,\n",
       "       0.05425419, 0.0540957 , 0.05335919, 0.05279226, 0.05228501,\n",
       "       0.05219467, 0.05164067, 0.05066015, 0.05030202, 0.04837739,\n",
       "       0.04822724, 0.0472066 , 0.04673688, 0.04671786, 0.04644237,\n",
       "       0.04614897, 0.04420188, 0.04286509, 0.04251253, 0.04174341,\n",
       "       0.04166571, 0.04137339, 0.04096094, 0.0405353 , 0.03990957,\n",
       "       0.03988707, 0.0398438 , 0.03930983, 0.03923886, 0.03877974,\n",
       "       0.03877512, 0.03852981, 0.03816218, 0.03815899, 0.03742454,\n",
       "       0.0368987 , 0.03677591, 0.03671159, 0.03654773, 0.03635325,\n",
       "       0.03612373, 0.03610818, 0.0360195 , 0.03586452, 0.03582653,\n",
       "       0.03572746, 0.03565422, 0.03555559, 0.03504351, 0.03495525,\n",
       "       0.03489257, 0.0345992 , 0.03383926, 0.03381944, 0.03363902,\n",
       "       0.03349815, 0.03300388, 0.03294918, 0.03281054, 0.03275428,\n",
       "       0.0325323 , 0.03200772, 0.03199524, 0.03172891, 0.03149141,\n",
       "       0.03133166, 0.03106268, 0.03057356, 0.03044928, 0.0304172 ],\n",
       "      dtype=float32)"
      ]
     },
     "execution_count": 20,
     "metadata": {},
     "output_type": "execute_result"
    }
   ],
   "source": [
    "rscores"
   ]
  },
  {
   "cell_type": "code",
   "execution_count": 21,
   "metadata": {},
   "outputs": [
    {
     "data": {
      "text/plain": [
       "100"
      ]
     },
     "execution_count": 21,
     "metadata": {},
     "output_type": "execute_result"
    }
   ],
   "source": [
    "len(rclasses)"
   ]
  },
  {
   "cell_type": "code",
   "execution_count": null,
   "metadata": {},
   "outputs": [],
   "source": [
    "for i in range(len(rclasses)):\n",
    "    probability = rscores[i]\n",
    "    if probability > 0.5:\n",
    "        "
   ]
  }
 ],
 "metadata": {
  "kernelspec": {
   "display_name": "Python 3",
   "language": "python",
   "name": "python3"
  },
  "language_info": {
   "codemirror_mode": {
    "name": "ipython",
    "version": 3
   },
   "file_extension": ".py",
   "mimetype": "text/x-python",
   "name": "python",
   "nbconvert_exporter": "python",
   "pygments_lexer": "ipython3",
   "version": "3.5.2"
  }
 },
 "nbformat": 4,
 "nbformat_minor": 2
}
