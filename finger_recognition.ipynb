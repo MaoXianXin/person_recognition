{
 "cells": [
  {
   "cell_type": "code",
   "execution_count": 1,
   "metadata": {},
   "outputs": [],
   "source": [
    "# import packages\n",
    "import tensorflow as tf\n",
    "import matplotlib.image as mpimg\n",
    "import cv2\n",
    "import numpy as np \n",
    "import time\n",
    "import argparse\n",
    "import imutils\n",
    "import dlib\n",
    "from imutils.video import VideoStream\n",
    "import pandas as pd"
   ]
  },
  {
   "cell_type": "code",
   "execution_count": 2,
   "metadata": {},
   "outputs": [],
   "source": [
    "class TrafficLightClassifier(object):\n",
    "    def __init__(self):\n",
    "        PATH_TO_MODEL = './export_pb_graph/frozen_inference_graph.pb'\n",
    "        self.detection_graph = tf.Graph()\n",
    "        with self.detection_graph.as_default():\n",
    "            od_graph_def = tf.GraphDef()\n",
    "            # Works up to here.\n",
    "            with tf.gfile.GFile(PATH_TO_MODEL, 'rb') as fid:\n",
    "                serialized_graph = fid.read()\n",
    "                od_graph_def.ParseFromString(serialized_graph)\n",
    "                tf.import_graph_def(od_graph_def, name='')\n",
    "            self.image_tensor = self.detection_graph.get_tensor_by_name('image_tensor:0')\n",
    "            self.d_boxes = self.detection_graph.get_tensor_by_name('detection_boxes:0')\n",
    "            self.d_scores = self.detection_graph.get_tensor_by_name('detection_scores:0')\n",
    "            self.d_classes = self.detection_graph.get_tensor_by_name('detection_classes:0')\n",
    "            self.num_d = self.detection_graph.get_tensor_by_name('num_detections:0')\n",
    "        self.sess = tf.Session(graph=self.detection_graph)\n",
    "    \n",
    "    \n",
    "    def get_classification(self, img):\n",
    "        # Bounding Box Detection.\n",
    "        with self.detection_graph.as_default():\n",
    "            # Expand dimension since the model expects image to have shape [1, None, None, 3].\n",
    "            img_expanded = np.expand_dims(img, axis=0)  \n",
    "            (boxes, scores, classes, num) = self.sess.run(\n",
    "                [self.d_boxes, self.d_scores, self.d_classes, self.num_d],\n",
    "                feed_dict={self.image_tensor: img_expanded})\n",
    "        return boxes, scores, classes, num"
   ]
  },
  {
   "cell_type": "code",
   "execution_count": 3,
   "metadata": {},
   "outputs": [],
   "source": [
    "class_id_to_name = {'1': 'person'}"
   ]
  },
  {
   "cell_type": "code",
   "execution_count": 4,
   "metadata": {
    "scrolled": true
   },
   "outputs": [],
   "source": [
    "person = TrafficLightClassifier()"
   ]
  },
  {
   "cell_type": "code",
   "execution_count": 5,
   "metadata": {},
   "outputs": [],
   "source": [
    "count = 0"
   ]
  },
  {
   "cell_type": "code",
   "execution_count": 6,
   "metadata": {},
   "outputs": [],
   "source": [
    "vs = VideoStream(src=0).start()\n",
    "time.sleep(3.0)\n",
    "flag = 1\n",
    "\n",
    "while True:\n",
    "    if flag == -1:\n",
    "        img = vs.read()\n",
    "        #img = cv2.resize(img, (700, 700))\n",
    "        rboxes, rscores, rclasses, rnum = person.get_classification(img[:,:,::-1])\n",
    "        h = img.shape[0]\n",
    "        w = img.shape[1]\n",
    "        for i in range(rboxes.shape[1]):\n",
    "            if rscores[0][i] > 0.5:\n",
    "                sx = int(rboxes[0][i][1] * w)\n",
    "                sy = int(rboxes[0][i][0] * h)\n",
    "                ex = int(rboxes[0][i][3] * w)\n",
    "                ey = int(rboxes[0][i][2] * h)\n",
    "                key = str(int(rclasses[0][i]))\n",
    "                name = class_id_to_name[key]\n",
    "                cv2.rectangle(img, (sx, sy), (ex, ey), (0, 0, 255), 2)\n",
    "                font = cv2.FONT_HERSHEY_DUPLEX\n",
    "                cv2.putText(img, name, (sx-5, ey + 26), font, 0.8, (0, 0, 255), 1)\n",
    "                \n",
    "                timestamp = time.time()\n",
    "                count = count + 1\n",
    "                if count % 50 == 0:\n",
    "                    cv2.imwrite('./save_images/' + str(timestamp) + '.jpg', img)\n",
    "        \n",
    "        cv2.imshow('finger', img)\n",
    "        key = cv2.waitKey(1) & 0xFF\n",
    "        \n",
    "        if key == ord(\"q\"):\n",
    "            break\n",
    "    flag = flag * -1\n",
    "\n",
    "cv2.destroyAllWindows()\n",
    "vs.stop()"
   ]
  },
  {
   "cell_type": "code",
   "execution_count": 13,
   "metadata": {},
   "outputs": [],
   "source": [
    "img_path = '/home/mao/Pictures/test_image/000002.jpg'"
   ]
  },
  {
   "cell_type": "code",
   "execution_count": 14,
   "metadata": {},
   "outputs": [],
   "source": [
    "image = mpimg.imread(img_path)"
   ]
  },
  {
   "cell_type": "code",
   "execution_count": 15,
   "metadata": {},
   "outputs": [],
   "source": [
    "rboxes, rscores, rclasses, rnum = person.get_classification(image)"
   ]
  },
  {
   "cell_type": "code",
   "execution_count": 16,
   "metadata": {},
   "outputs": [],
   "source": [
    "h = image.shape[0]\n",
    "w = image.shape[1]"
   ]
  },
  {
   "cell_type": "code",
   "execution_count": 17,
   "metadata": {},
   "outputs": [],
   "source": [
    "cv2_image = cv2.imread(img_path)"
   ]
  },
  {
   "cell_type": "code",
   "execution_count": 18,
   "metadata": {},
   "outputs": [],
   "source": [
    "for i in range(rboxes.shape[1]):\n",
    "    if rscores[0][i] > 0.3:\n",
    "        sx = int(rboxes[0][i][1] * w)\n",
    "        sy = int(rboxes[0][i][0] * h)\n",
    "        ex = int(rboxes[0][i][3] * w)\n",
    "        ey = int(rboxes[0][i][2] * h)\n",
    "        key = str(int(rclasses[0][i]))\n",
    "        name = class_id_to_name[key]\n",
    "    cv2.rectangle(cv2_image, (sx, sy), (ex, ey), (0, 0, 255), 2)\n",
    "    font = cv2.FONT_HERSHEY_DUPLEX\n",
    "    cv2.putText(cv2_image, name, (sx-5, ey + 26), font, 0.8, (0, 0, 255), 1)\n",
    "    \n",
    "    key = cv2.waitKey(1) & 0xFF\n",
    "    if key == ord(\"q\"):\n",
    "        break"
   ]
  },
  {
   "cell_type": "code",
   "execution_count": 19,
   "metadata": {},
   "outputs": [],
   "source": [
    "cv2.imshow('person', cv2_image)\n",
    "cv2.waitKey(0)\n",
    "cv2.destroyAllWindows()"
   ]
  },
  {
   "cell_type": "code",
   "execution_count": null,
   "metadata": {},
   "outputs": [],
   "source": []
  },
  {
   "cell_type": "code",
   "execution_count": null,
   "metadata": {},
   "outputs": [],
   "source": []
  },
  {
   "cell_type": "code",
   "execution_count": null,
   "metadata": {},
   "outputs": [],
   "source": []
  }
 ],
 "metadata": {
  "kernelspec": {
   "display_name": "Python 3",
   "language": "python",
   "name": "python3"
  },
  "language_info": {
   "codemirror_mode": {
    "name": "ipython",
    "version": 3
   },
   "file_extension": ".py",
   "mimetype": "text/x-python",
   "name": "python",
   "nbconvert_exporter": "python",
   "pygments_lexer": "ipython3",
   "version": "3.5.2"
  }
 },
 "nbformat": 4,
 "nbformat_minor": 2
}
